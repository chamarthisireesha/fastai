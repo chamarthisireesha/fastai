{
 "cells": [
  {
   "cell_type": "markdown",
   "metadata": {},
   "source": [
    "### Linear function"
   ]
  },
  {
   "cell_type": "markdown",
   "metadata": {},
   "source": [
    "y = (a1 * x) + (a2)\n",
    "\n",
    "\n",
    "y = (a1 *x1) + (a2 * x2) --- x2 =1 -- This is a dot product\n",
    "\n",
    "\n",
    "We will have a lots of equations for y for each point on the curve\n",
    "\n",
    "This would be a matrix of a1, x1, a2 -- the dot product would be matrix product\n",
    "\n",
    "\n",
    "Tensor means array -- of all the columns and rows should be of same length ex: 4 x 3 is a sensor\n",
    "\n",
    "Image is generally a Rank 3 sensor - 3D\n",
    "\n"
   ]
  },
  {
   "cell_type": "code",
   "execution_count": 5,
   "metadata": {},
   "outputs": [],
   "source": [
    "%matplotlib inline\n",
    "from fastai.basics import *"
   ]
  },
  {
   "cell_type": "markdown",
   "metadata": {},
   "source": [
    "### Generate some data"
   ]
  },
  {
   "cell_type": "code",
   "execution_count": 6,
   "metadata": {},
   "outputs": [],
   "source": [
    "n = 100"
   ]
  },
  {
   "cell_type": "code",
   "execution_count": 7,
   "metadata": {},
   "outputs": [
    {
     "data": {
      "text/plain": [
       "tensor([[-0.8570,  1.0000],\n",
       "        [ 0.7096,  1.0000],\n",
       "        [-0.9387,  1.0000],\n",
       "        [-0.2396,  1.0000],\n",
       "        [ 0.8882,  1.0000]])"
      ]
     },
     "execution_count": 7,
     "metadata": {},
     "output_type": "execute_result"
    }
   ],
   "source": [
    "x = torch.ones(n,2) \n",
    "x[:,0].uniform_(-1.,1)\n",
    "x[:5]"
   ]
  },
  {
   "cell_type": "markdown",
   "metadata": {},
   "source": [
    "x is a rank 2 tensor with n rows and 2 columns \n",
    "\n",
    "In the second line, we have changed the first column\n",
    "\n",
    "In pytorch, uniform_ is used for replacement of the variables"
   ]
  },
  {
   "cell_type": "markdown",
   "metadata": {},
   "source": [
    "#### coefficients a1 = 3, a2 = 2"
   ]
  },
  {
   "cell_type": "code",
   "execution_count": 10,
   "metadata": {},
   "outputs": [],
   "source": [
    "a = tensor(3.,2)"
   ]
  },
  {
   "cell_type": "markdown",
   "metadata": {},
   "source": [
    "This is a rank 1 tensor"
   ]
  },
  {
   "cell_type": "code",
   "execution_count": 11,
   "metadata": {},
   "outputs": [
    {
     "data": {
      "text/plain": [
       "tensor([3., 2.])"
      ]
     },
     "execution_count": 11,
     "metadata": {},
     "output_type": "execute_result"
    }
   ],
   "source": [
    "a"
   ]
  },
  {
   "cell_type": "markdown",
   "metadata": {},
   "source": [
    "In python x@a is the matrix vector product"
   ]
  },
  {
   "cell_type": "code",
   "execution_count": 12,
   "metadata": {},
   "outputs": [],
   "source": [
    "y = x@a + torch.rand(n)"
   ]
  },
  {
   "cell_type": "code",
   "execution_count": 13,
   "metadata": {},
   "outputs": [
    {
     "data": {
      "text/plain": [
       "<matplotlib.collections.PathCollection at 0x7f59919a9710>"
      ]
     },
     "execution_count": 13,
     "metadata": {},
     "output_type": "execute_result"
    },
    {
     "data": {
      "image/png": "[encoded data removed]",
      "text/plain": [
       "<Figure size 432x288 with 1 Axes>"
      ]
     },
     "metadata": {
      "needs_background": "light"
     },
     "output_type": "display_data"
    }
   ],
   "source": [
    "plt.scatter(x[:,0],y)"
   ]
  },
  {
   "cell_type": "markdown",
   "metadata": {},
   "source": [
    "### Loss function"
   ]
  },
  {
   "cell_type": "code",
   "execution_count": 15,
   "metadata": {},
   "outputs": [],
   "source": [
    "def mse(y_hat, y):\n",
    "    return ((y_hat-y)**2).mean()"
   ]
  },
  {
   "cell_type": "markdown",
   "metadata": {},
   "source": [
    "Random guess of a = [-1.0,1]"
   ]
  },
  {
   "cell_type": "code",
   "execution_count": 16,
   "metadata": {},
   "outputs": [],
   "source": [
    "a = tensor(-1.,1)"
   ]
  },
  {
   "cell_type": "code",
   "execution_count": 17,
   "metadata": {},
   "outputs": [
    {
     "data": {
      "text/plain": [
       "tensor(8.7057)"
      ]
     },
     "execution_count": 17,
     "metadata": {},
     "output_type": "execute_result"
    }
   ],
   "source": [
    "y_hat = x@a\n",
    "mse(y_hat, y)"
   ]
  },
  {
   "cell_type": "code",
   "execution_count": 18,
   "metadata": {},
   "outputs": [
    {
     "data": {
      "text/plain": [
       "<matplotlib.collections.PathCollection at 0x7f59918e4550>"
      ]
     },
     "execution_count": 18,
     "metadata": {},
     "output_type": "execute_result"
    },
    {
     "data": {
      "image/png": "[encoded data removed]",
      "text/plain": [
       "<Figure size 432x288 with 1 Axes>"
      ]
     },
     "metadata": {
      "needs_background": "light"
     },
     "output_type": "display_data"
    }
   ],
   "source": [
    "plt.scatter(x[:,0],y)\n",
    "plt.scatter(x[:,0],y_hat)"
   ]
  },
  {
   "cell_type": "markdown",
   "metadata": {},
   "source": [
    "## Gradient descent"
   ]
  },
  {
   "cell_type": "markdown",
   "metadata": {},
   "source": [
    "Minimze the loss function"
   ]
  },
  {
   "cell_type": "markdown",
   "metadata": {},
   "source": []
  },
  {
   "cell_type": "code",
   "execution_count": 25,
   "metadata": {},
   "outputs": [],
   "source": [
    "a = nn.Parameter(a)"
   ]
  },
  {
   "cell_type": "code",
   "execution_count": 26,
   "metadata": {},
   "outputs": [
    {
     "data": {
      "text/plain": [
       "Parameter containing:\n",
       "tensor([3.0129, 2.4841], requires_grad=True)"
      ]
     },
     "execution_count": 26,
     "metadata": {},
     "output_type": "execute_result"
    }
   ],
   "source": [
    "a\n"
   ]
  },
  {
   "cell_type": "code",
   "execution_count": 43,
   "metadata": {},
   "outputs": [],
   "source": [
    "def update():\n",
    "    y_hat = x@a\n",
    "    loss = mse(y, y_hat)\n",
    "    if t % 10 == 0: print(loss)\n",
    "    loss.backward()\n",
    "    with torch.no_grad():\n",
    "        a.sub_(lr * a.grad)\n",
    "        a.grad.zero_()"
   ]
  },
  {
   "cell_type": "markdown",
   "metadata": {},
   "source": [
    "The loop goes throug 100 times. as shown below\n",
    "\n",
    "the mse is calculated, \n",
    "\n",
    "For every 10 times it prints the loss\n",
    "\n",
    "\n",
    "In pytorch .backward --- the derivate is calulated\n",
    "\n",
    "In pytorch to calculate the store the gradient val with grad\n",
    "\n",
    "\n",
    "weights are updated as w = w - gradient *LR , wehere gradient is (d(loss func)/d(w))"
   ]
  },
  {
   "cell_type": "code",
   "execution_count": 44,
   "metadata": {},
   "outputs": [
    {
     "name": "stdout",
     "output_type": "stream",
     "text": [
      "tensor(8.7057, grad_fn=<MeanBackward0>)\n",
      "tensor(1.3431, grad_fn=<MeanBackward0>)\n",
      "tensor(0.4020, grad_fn=<MeanBackward0>)\n",
      "tensor(0.1624, grad_fn=<MeanBackward0>)\n",
      "tensor(0.0987, grad_fn=<MeanBackward0>)\n",
      "tensor(0.0817, grad_fn=<MeanBackward0>)\n",
      "tensor(0.0772, grad_fn=<MeanBackward0>)\n",
      "tensor(0.0760, grad_fn=<MeanBackward0>)\n",
      "tensor(0.0757, grad_fn=<MeanBackward0>)\n",
      "tensor(0.0756, grad_fn=<MeanBackward0>)\n"
     ]
    }
   ],
   "source": [
    "lr = 1e-1\n",
    "for t in range(100): update()"
   ]
  },
  {
   "cell_type": "code",
   "execution_count": null,
   "metadata": {},
   "outputs": [],
   "source": []
  },
  {
   "cell_type": "code",
   "execution_count": null,
   "metadata": {},
   "outputs": [],
   "source": []
  },
  {
   "cell_type": "code",
   "execution_count": 45,
   "metadata": {},
   "outputs": [],
   "source": [
    "y_hat1 = x@a"
   ]
  },
  {
   "cell_type": "code",
   "execution_count": 46,
   "metadata": {},
   "outputs": [
    {
     "data": {
      "text/plain": [
       "tensor([-9.8042e-02,  4.6222e+00, -3.4414e-01,  1.7622e+00,  5.1602e+00,\n",
       "         7.6720e-01,  5.3501e+00,  3.1177e-02,  5.1246e-01,  3.8218e+00,\n",
       "         4.1849e+00,  3.2162e+00,  4.3051e+00, -4.4435e-01,  1.4148e-02,\n",
       "         9.6375e-01,  1.2532e+00,  1.7952e+00,  3.7275e+00,  3.9441e+00,\n",
       "         5.4848e-01,  4.1119e+00,  3.3819e+00,  4.5034e+00,  1.4812e-01,\n",
       "         3.1551e+00,  3.4946e+00,  2.3584e+00,  2.6200e+00,  2.5277e+00,\n",
       "         4.3347e+00,  1.9658e+00,  3.4638e+00,  2.4072e+00,  4.4479e+00,\n",
       "         3.0711e+00,  3.8159e+00,  1.4480e+00,  1.7291e+00,  1.4244e+00,\n",
       "         1.2662e+00,  3.1400e+00,  4.5654e+00,  1.4454e+00,  3.8767e+00,\n",
       "         3.2096e+00,  3.2041e+00,  5.4285e-01,  2.7169e+00,  2.7015e-03,\n",
       "         1.7909e+00,  5.0815e+00,  4.4414e-01,  4.8198e+00,  4.1432e+00,\n",
       "         5.3935e+00,  2.8264e+00,  4.4615e+00,  4.8776e+00,  3.0294e+00,\n",
       "         2.2597e+00,  5.2752e+00,  4.2552e+00,  4.8438e+00,  4.3486e+00,\n",
       "         1.4202e+00,  4.1631e+00,  3.2789e+00,  3.2944e+00, -3.1416e-01,\n",
       "         5.5025e-01,  3.3062e+00,  4.1673e+00,  4.8874e+00,  2.8882e+00,\n",
       "         1.2090e+00,  4.4128e+00,  4.2096e-01,  3.5659e+00,  4.8044e-01,\n",
       "         8.4526e-01,  5.2591e+00,  1.0337e+00,  4.3493e+00,  5.4120e+00,\n",
       "         5.3019e+00,  3.6900e+00,  3.6030e+00,  4.7502e+00,  5.1752e+00,\n",
       "         1.1230e+00,  1.8941e+00,  2.5729e+00,  1.3454e+00,  2.6585e+00,\n",
       "         3.1560e+00,  3.7948e-02,  1.7328e-01,  3.9906e+00,  6.4737e-02],\n",
       "       grad_fn=<MvBackward>)"
      ]
     },
     "execution_count": 46,
     "metadata": {},
     "output_type": "execute_result"
    }
   ],
   "source": [
    "y_hat1"
   ]
  },
  {
   "cell_type": "code",
   "execution_count": 47,
   "metadata": {},
   "outputs": [],
   "source": [
    "y_hat1 = y_hat1.tolist()"
   ]
  },
  {
   "cell_type": "code",
   "execution_count": null,
   "metadata": {},
   "outputs": [],
   "source": []
  },
  {
   "cell_type": "code",
   "execution_count": 48,
   "metadata": {},
   "outputs": [
    {
     "data": {
      "image/png": "[encoded data removed]",
      "text/plain": [
       "<Figure size 432x288 with 1 Axes>"
      ]
     },
     "metadata": {
      "needs_background": "light"
     },
     "output_type": "display_data"
    }
   ],
   "source": [
    "plt.scatter(x[:,0],y)\n",
    "plt.scatter(x[:,0],y_hat1);"
   ]
  },
  {
   "cell_type": "code",
   "execution_count": null,
   "metadata": {},
   "outputs": [],
   "source": []
  },
  {
   "cell_type": "code",
   "execution_count": null,
   "metadata": {},
   "outputs": [],
   "source": []
  },
  {
   "cell_type": "markdown",
   "metadata": {},
   "source": [
    "## Stochastic gradient descent -- calls for mini batches"
   ]
  },
  {
   "cell_type": "markdown",
   "metadata": {},
   "source": [
    "For huge datasets -- we use mini batches-- based on the size of the minibatch, some random images are picked up. \n",
    "\n",
    "Then using those random images the mse is calcualted. \n",
    "\n",
    "The loop continues for each of the mini batch"
   ]
  },
  {
   "cell_type": "code",
   "execution_count": null,
   "metadata": {},
   "outputs": [],
   "source": []
  },
  {
   "cell_type": "markdown",
   "metadata": {},
   "source": [
    "Learning Rate --- multiply the gradient to update the weights\n",
    "\n",
    "Epoch -- one complete run for all the images\n",
    "for non stoc gradient -- we run through all the images -- lots of epochs, we look at the image lot of times.. chance of overfitting\n",
    "\n",
    "\n",
    "minibatch -- in stochastic grad, the size to pick the data randomly\n",
    "\n",
    "\n",
    "Architecture/model is the same thing -- mathematical function we fit the paramters to -- ex: resnet34, linear regression\n",
    "\n",
    "\n",
    "Paramters or coefficients or weights -- numbers updating\n",
    "\n",
    "\n",
    "Loss function---  how far away or close to the true value"
   ]
  },
  {
   "cell_type": "code",
   "execution_count": null,
   "metadata": {},
   "outputs": [],
   "source": []
  },
  {
   "cell_type": "markdown",
   "metadata": {},
   "source": [
    "REGULARIZATION AVOIDS OVERFITTING"
   ]
  },
  {
   "cell_type": "code",
   "execution_count": null,
   "metadata": {},
   "outputs": [],
   "source": []
  }
 ],
 "metadata": {
  "kernelspec": {
   "display_name": "Python 3",
   "language": "python",
   "name": "python3"
  },
  "language_info": {
   "codemirror_mode": {
    "name": "ipython",
    "version": 3
   },
   "file_extension": ".py",
   "mimetype": "text/x-python",
   "name": "python",
   "nbconvert_exporter": "python",
   "pygments_lexer": "ipython3",
   "version": "3.7.4"
  }
 },
 "nbformat": 4,
 "nbformat_minor": 4
}
